{
 "cells": [
  {
   "cell_type": "code",
   "execution_count": 1,
   "source": [
    "from textblob import TextBlob\r\n",
    "from textblob.np_extractors import ConllExtractor\r\n",
    "# import and create a Conll extractor to use later \r\n",
    "extractor = ConllExtractor()\r\n",
    "\r\n",
    "# later when you need a noun phrase extractor:\r\n",
    "user_input = input(\"> \")\r\n",
    "user_input_blob = TextBlob(user_input, np_extractor=extractor)  # note non-default extractor specified\r\n",
    "np = user_input_blob.noun_phrases\r\n",
    "\r\n",
    "#  ConllExtractor is \"A noun phrase extractor that uses chunk parsing trained with the ConLL-2000 training corpus."
   ],
   "outputs": [],
   "metadata": {}
  },
  {
   "cell_type": "code",
   "execution_count": 4,
   "source": [
    "from textblob import TextBlob\r\n",
    "\r\n",
    "blob = TextBlob(\r\n",
    "    \"It is a truth universally acknowledged, that a single man in possession of a good fortune, must be in want of a wife!\"\r\n",
    ")\r\n",
    "print(blob.translate(to=\"fr\"))"
   ],
   "outputs": [
    {
     "output_type": "stream",
     "name": "stdout",
     "text": [
      "C'est une vérité universellement reconnue, qu'un homme célibataire en possession d'une bonne fortune, doit avoir besoin d'une femme !\n"
     ]
    }
   ],
   "metadata": {}
  }
 ],
 "metadata": {
  "orig_nbformat": 4,
  "language_info": {
   "name": "python",
   "version": "3.8.3",
   "mimetype": "text/x-python",
   "codemirror_mode": {
    "name": "ipython",
    "version": 3
   },
   "pygments_lexer": "ipython3",
   "nbconvert_exporter": "python",
   "file_extension": ".py"
  },
  "kernelspec": {
   "name": "python3",
   "display_name": "Python 3.8.3 64-bit"
  },
  "interpreter": {
   "hash": "29bb0ae593278301629aab3376a868c27deccc17532c9747bd6d59049c818ac5"
  }
 },
 "nbformat": 4,
 "nbformat_minor": 2
}