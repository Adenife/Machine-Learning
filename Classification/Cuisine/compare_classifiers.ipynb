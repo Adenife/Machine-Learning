{
 "cells": [
  {
   "cell_type": "code",
   "execution_count": 1,
   "source": [
    "import pandas as pd\r\n",
    "data = pd.read_csv('cleaned_cuisine.csv')"
   ],
   "outputs": [],
   "metadata": {}
  },
  {
   "cell_type": "code",
   "execution_count": 2,
   "source": [
    "from sklearn.neighbors import KNeighborsClassifier\r\n",
    "from sklearn.linear_model import LogisticRegression\r\n",
    "from sklearn.svm import SVC\r\n",
    "from sklearn.ensemble import RandomForestClassifier, AdaBoostClassifier\r\n",
    "from sklearn.model_selection import train_test_split, cross_val_score\r\n",
    "from sklearn.metrics import accuracy_score,precision_score,confusion_matrix,classification_report, precision_recall_curve\r\n",
    "import numpy as np"
   ],
   "outputs": [],
   "metadata": {}
  },
  {
   "cell_type": "code",
   "execution_count": 3,
   "source": [
    "# divide the dataset into features and labels sets\r\n",
    "data_label = data['cuisine']\r\n",
    "data_feature = data.drop(['Unnamed: 0', 'cuisine'], axis=1)\r\n",
    "\r\n",
    "X_train, X_test, y_train, y_test = train_test_split(data_feature, data_label, test_size=0.3)"
   ],
   "outputs": [],
   "metadata": {}
  },
  {
   "cell_type": "code",
   "execution_count": 4,
   "source": [
    "C = 10\r\n",
    "# Create different classifiers.\r\n",
    "classifiers = {\r\n",
    "    'Linear SVC': SVC(kernel='linear', C=C, probability=True,random_state=0),\r\n",
    "    'KNN classifier': KNeighborsClassifier(C),\r\n",
    "    'SVC': SVC(),\r\n",
    "    'RFST': RandomForestClassifier(n_estimators=100),\r\n",
    "    'ADA': AdaBoostClassifier(n_estimators=100)\r\n",
    "}\r\n"
   ],
   "outputs": [],
   "metadata": {}
  },
  {
   "cell_type": "code",
   "execution_count": 5,
   "source": [
    "n_classifiers = len(classifiers)\r\n",
    "\r\n",
    "for index, (name, classifier) in enumerate(classifiers.items()):\r\n",
    "    classifier.fit(X_train, np.ravel(y_train))\r\n",
    "\r\n",
    "    y_pred = classifier.predict(X_test)\r\n",
    "    accuracy = accuracy_score(y_test, y_pred)\r\n",
    "    print(\"Accuracy (train) for %s: %0.1f%% \" % (name, accuracy * 100))\r\n",
    "    print(classification_report(y_test,y_pred))\r\n"
   ],
   "outputs": [
    {
     "output_type": "stream",
     "name": "stdout",
     "text": [
      "Accuracy (train) for Linear SVC: 78.2% \n",
      "              precision    recall  f1-score   support\n",
      "\n",
      "     chinese       0.70      0.70      0.70       246\n",
      "      indian       0.87      0.85      0.86       229\n",
      "    japanese       0.79      0.76      0.77       258\n",
      "      korean       0.87      0.75      0.81       235\n",
      "        thai       0.71      0.86      0.78       231\n",
      "\n",
      "    accuracy                           0.78      1199\n",
      "   macro avg       0.79      0.78      0.78      1199\n",
      "weighted avg       0.79      0.78      0.78      1199\n",
      "\n",
      "Accuracy (train) for KNN classifier: 72.9% \n",
      "              precision    recall  f1-score   support\n",
      "\n",
      "     chinese       0.62      0.72      0.66       246\n",
      "      indian       0.81      0.78      0.80       229\n",
      "    japanese       0.65      0.86      0.74       258\n",
      "      korean       0.92      0.56      0.69       235\n",
      "        thai       0.78      0.71      0.75       231\n",
      "\n",
      "    accuracy                           0.73      1199\n",
      "   macro avg       0.76      0.73      0.73      1199\n",
      "weighted avg       0.75      0.73      0.73      1199\n",
      "\n",
      "Accuracy (train) for SVC: 83.8% \n",
      "              precision    recall  f1-score   support\n",
      "\n",
      "     chinese       0.81      0.76      0.78       246\n",
      "      indian       0.90      0.90      0.90       229\n",
      "    japanese       0.81      0.84      0.83       258\n",
      "      korean       0.91      0.77      0.84       235\n",
      "        thai       0.79      0.92      0.85       231\n",
      "\n",
      "    accuracy                           0.84      1199\n",
      "   macro avg       0.84      0.84      0.84      1199\n",
      "weighted avg       0.84      0.84      0.84      1199\n",
      "\n",
      "Accuracy (train) for RFST: 84.0% \n",
      "              precision    recall  f1-score   support\n",
      "\n",
      "     chinese       0.80      0.77      0.78       246\n",
      "      indian       0.90      0.90      0.90       229\n",
      "    japanese       0.84      0.83      0.84       258\n",
      "      korean       0.89      0.79      0.84       235\n",
      "        thai       0.79      0.93      0.85       231\n",
      "\n",
      "    accuracy                           0.84      1199\n",
      "   macro avg       0.84      0.84      0.84      1199\n",
      "weighted avg       0.84      0.84      0.84      1199\n",
      "\n",
      "Accuracy (train) for ADA: 69.6% \n",
      "              precision    recall  f1-score   support\n",
      "\n",
      "     chinese       0.64      0.48      0.55       246\n",
      "      indian       0.88      0.79      0.83       229\n",
      "    japanese       0.70      0.66      0.68       258\n",
      "      korean       0.65      0.74      0.69       235\n",
      "        thai       0.65      0.83      0.73       231\n",
      "\n",
      "    accuracy                           0.70      1199\n",
      "   macro avg       0.70      0.70      0.70      1199\n",
      "weighted avg       0.70      0.70      0.69      1199\n",
      "\n"
     ]
    }
   ],
   "metadata": {}
  }
 ],
 "metadata": {
  "orig_nbformat": 4,
  "language_info": {
   "name": "python",
   "version": "3.8.3",
   "mimetype": "text/x-python",
   "codemirror_mode": {
    "name": "ipython",
    "version": 3
   },
   "pygments_lexer": "ipython3",
   "nbconvert_exporter": "python",
   "file_extension": ".py"
  },
  "kernelspec": {
   "name": "python3",
   "display_name": "Python 3.8.3 64-bit"
  },
  "interpreter": {
   "hash": "29bb0ae593278301629aab3376a868c27deccc17532c9747bd6d59049c818ac5"
  }
 },
 "nbformat": 4,
 "nbformat_minor": 2
}