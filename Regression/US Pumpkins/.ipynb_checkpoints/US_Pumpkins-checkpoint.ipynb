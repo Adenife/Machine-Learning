{
 "cells": [
  {
   "cell_type": "code",
   "execution_count": 1,
   "metadata": {},
   "outputs": [],
   "source": [
    "import pandas as pd\n",
    "import numpy as np\n",
    "import matplotlib.pyplot as plt\n",
    "import seaborn as sns\n",
    "\n",
    "%matplotlib inline"
   ]
  },
  {
   "cell_type": "code",
   "execution_count": 2,
   "metadata": {},
   "outputs": [
    {
     "data": {
      "text/html": [
       "<div>\n",
       "<style scoped>\n",
       "    .dataframe tbody tr th:only-of-type {\n",
       "        vertical-align: middle;\n",
       "    }\n",
       "\n",
       "    .dataframe tbody tr th {\n",
       "        vertical-align: top;\n",
       "    }\n",
       "\n",
       "    .dataframe thead th {\n",
       "        text-align: right;\n",
       "    }\n",
       "</style>\n",
       "<table border=\"1\" class=\"dataframe\">\n",
       "  <thead>\n",
       "    <tr style=\"text-align: right;\">\n",
       "      <th></th>\n",
       "      <th>City Name</th>\n",
       "      <th>Type</th>\n",
       "      <th>Package</th>\n",
       "      <th>Variety</th>\n",
       "      <th>Sub Variety</th>\n",
       "      <th>Grade</th>\n",
       "      <th>Date</th>\n",
       "      <th>Low Price</th>\n",
       "      <th>High Price</th>\n",
       "      <th>Mostly Low</th>\n",
       "      <th>...</th>\n",
       "      <th>Unit of Sale</th>\n",
       "      <th>Quality</th>\n",
       "      <th>Condition</th>\n",
       "      <th>Appearance</th>\n",
       "      <th>Storage</th>\n",
       "      <th>Crop</th>\n",
       "      <th>Repack</th>\n",
       "      <th>Trans Mode</th>\n",
       "      <th>Unnamed: 24</th>\n",
       "      <th>Unnamed: 25</th>\n",
       "    </tr>\n",
       "  </thead>\n",
       "  <tbody>\n",
       "    <tr>\n",
       "      <th>0</th>\n",
       "      <td>BALTIMORE</td>\n",
       "      <td>NaN</td>\n",
       "      <td>24 inch bins</td>\n",
       "      <td>NaN</td>\n",
       "      <td>NaN</td>\n",
       "      <td>NaN</td>\n",
       "      <td>4/29/17</td>\n",
       "      <td>270.0</td>\n",
       "      <td>280.0</td>\n",
       "      <td>270.0</td>\n",
       "      <td>...</td>\n",
       "      <td>NaN</td>\n",
       "      <td>NaN</td>\n",
       "      <td>NaN</td>\n",
       "      <td>NaN</td>\n",
       "      <td>NaN</td>\n",
       "      <td>NaN</td>\n",
       "      <td>E</td>\n",
       "      <td>NaN</td>\n",
       "      <td>NaN</td>\n",
       "      <td>NaN</td>\n",
       "    </tr>\n",
       "    <tr>\n",
       "      <th>1</th>\n",
       "      <td>BALTIMORE</td>\n",
       "      <td>NaN</td>\n",
       "      <td>24 inch bins</td>\n",
       "      <td>NaN</td>\n",
       "      <td>NaN</td>\n",
       "      <td>NaN</td>\n",
       "      <td>5/6/17</td>\n",
       "      <td>270.0</td>\n",
       "      <td>280.0</td>\n",
       "      <td>270.0</td>\n",
       "      <td>...</td>\n",
       "      <td>NaN</td>\n",
       "      <td>NaN</td>\n",
       "      <td>NaN</td>\n",
       "      <td>NaN</td>\n",
       "      <td>NaN</td>\n",
       "      <td>NaN</td>\n",
       "      <td>E</td>\n",
       "      <td>NaN</td>\n",
       "      <td>NaN</td>\n",
       "      <td>NaN</td>\n",
       "    </tr>\n",
       "    <tr>\n",
       "      <th>2</th>\n",
       "      <td>BALTIMORE</td>\n",
       "      <td>NaN</td>\n",
       "      <td>24 inch bins</td>\n",
       "      <td>HOWDEN TYPE</td>\n",
       "      <td>NaN</td>\n",
       "      <td>NaN</td>\n",
       "      <td>9/24/16</td>\n",
       "      <td>160.0</td>\n",
       "      <td>160.0</td>\n",
       "      <td>160.0</td>\n",
       "      <td>...</td>\n",
       "      <td>NaN</td>\n",
       "      <td>NaN</td>\n",
       "      <td>NaN</td>\n",
       "      <td>NaN</td>\n",
       "      <td>NaN</td>\n",
       "      <td>NaN</td>\n",
       "      <td>N</td>\n",
       "      <td>NaN</td>\n",
       "      <td>NaN</td>\n",
       "      <td>NaN</td>\n",
       "    </tr>\n",
       "    <tr>\n",
       "      <th>3</th>\n",
       "      <td>BALTIMORE</td>\n",
       "      <td>NaN</td>\n",
       "      <td>24 inch bins</td>\n",
       "      <td>HOWDEN TYPE</td>\n",
       "      <td>NaN</td>\n",
       "      <td>NaN</td>\n",
       "      <td>9/24/16</td>\n",
       "      <td>160.0</td>\n",
       "      <td>160.0</td>\n",
       "      <td>160.0</td>\n",
       "      <td>...</td>\n",
       "      <td>NaN</td>\n",
       "      <td>NaN</td>\n",
       "      <td>NaN</td>\n",
       "      <td>NaN</td>\n",
       "      <td>NaN</td>\n",
       "      <td>NaN</td>\n",
       "      <td>N</td>\n",
       "      <td>NaN</td>\n",
       "      <td>NaN</td>\n",
       "      <td>NaN</td>\n",
       "    </tr>\n",
       "    <tr>\n",
       "      <th>4</th>\n",
       "      <td>BALTIMORE</td>\n",
       "      <td>NaN</td>\n",
       "      <td>24 inch bins</td>\n",
       "      <td>HOWDEN TYPE</td>\n",
       "      <td>NaN</td>\n",
       "      <td>NaN</td>\n",
       "      <td>11/5/16</td>\n",
       "      <td>90.0</td>\n",
       "      <td>100.0</td>\n",
       "      <td>90.0</td>\n",
       "      <td>...</td>\n",
       "      <td>NaN</td>\n",
       "      <td>NaN</td>\n",
       "      <td>NaN</td>\n",
       "      <td>NaN</td>\n",
       "      <td>NaN</td>\n",
       "      <td>NaN</td>\n",
       "      <td>N</td>\n",
       "      <td>NaN</td>\n",
       "      <td>NaN</td>\n",
       "      <td>NaN</td>\n",
       "    </tr>\n",
       "  </tbody>\n",
       "</table>\n",
       "<p>5 rows × 26 columns</p>\n",
       "</div>"
      ],
      "text/plain": [
       "   City Name Type       Package      Variety Sub Variety  Grade     Date  \\\n",
       "0  BALTIMORE  NaN  24 inch bins          NaN         NaN    NaN  4/29/17   \n",
       "1  BALTIMORE  NaN  24 inch bins          NaN         NaN    NaN   5/6/17   \n",
       "2  BALTIMORE  NaN  24 inch bins  HOWDEN TYPE         NaN    NaN  9/24/16   \n",
       "3  BALTIMORE  NaN  24 inch bins  HOWDEN TYPE         NaN    NaN  9/24/16   \n",
       "4  BALTIMORE  NaN  24 inch bins  HOWDEN TYPE         NaN    NaN  11/5/16   \n",
       "\n",
       "   Low Price  High Price  Mostly Low  ...  Unit of Sale Quality Condition  \\\n",
       "0      270.0       280.0       270.0  ...           NaN     NaN       NaN   \n",
       "1      270.0       280.0       270.0  ...           NaN     NaN       NaN   \n",
       "2      160.0       160.0       160.0  ...           NaN     NaN       NaN   \n",
       "3      160.0       160.0       160.0  ...           NaN     NaN       NaN   \n",
       "4       90.0       100.0        90.0  ...           NaN     NaN       NaN   \n",
       "\n",
       "  Appearance Storage  Crop Repack  Trans Mode  Unnamed: 24  Unnamed: 25  \n",
       "0        NaN     NaN   NaN      E         NaN          NaN          NaN  \n",
       "1        NaN     NaN   NaN      E         NaN          NaN          NaN  \n",
       "2        NaN     NaN   NaN      N         NaN          NaN          NaN  \n",
       "3        NaN     NaN   NaN      N         NaN          NaN          NaN  \n",
       "4        NaN     NaN   NaN      N         NaN          NaN          NaN  \n",
       "\n",
       "[5 rows x 26 columns]"
      ]
     },
     "execution_count": 2,
     "metadata": {},
     "output_type": "execute_result"
    }
   ],
   "source": [
    "# load the dataset and print the first 5 rows\n",
    "data = pd.read_csv('US-pumpkins.csv')\n",
    "data.head()"
   ]
  },
  {
   "cell_type": "code",
   "execution_count": 3,
   "metadata": {},
   "outputs": [],
   "source": [
    "data = data[data['Package'].str.contains('bushel', case=True, regex=True)]"
   ]
  },
  {
   "cell_type": "code",
   "execution_count": 4,
   "metadata": {},
   "outputs": [
    {
     "data": {
      "text/plain": [
       "(415, 26)"
      ]
     },
     "execution_count": 4,
     "metadata": {},
     "output_type": "execute_result"
    }
   ],
   "source": [
    "# check the shape of the dataset\n",
    "data.shape"
   ]
  },
  {
   "cell_type": "code",
   "execution_count": 5,
   "metadata": {},
   "outputs": [
    {
     "data": {
      "text/plain": [
       "City Name            0\n",
       "Type               406\n",
       "Package              0\n",
       "Variety              0\n",
       "Sub Variety        167\n",
       "Grade              415\n",
       "Date                 0\n",
       "Low Price            0\n",
       "High Price           0\n",
       "Mostly Low          24\n",
       "Mostly High         24\n",
       "Origin               0\n",
       "Origin District    396\n",
       "Item Size          114\n",
       "Color              145\n",
       "Environment        415\n",
       "Unit of Sale       404\n",
       "Quality            415\n",
       "Condition          415\n",
       "Appearance         415\n",
       "Storage            415\n",
       "Crop               415\n",
       "Repack               0\n",
       "Trans Mode         415\n",
       "Unnamed: 24        415\n",
       "Unnamed: 25        391\n",
       "dtype: int64"
      ]
     },
     "execution_count": 5,
     "metadata": {},
     "output_type": "execute_result"
    }
   ],
   "source": [
    "#  check for null values in the dataset\n",
    "data.isnull().sum()"
   ]
  },
  {
   "cell_type": "code",
   "execution_count": 6,
   "metadata": {},
   "outputs": [],
   "source": [
    "# drop the columns that are not necessary\n",
    "new_columns = ['Package', 'Variety', 'City Name', 'Month', 'Low Price', 'High Price', 'Date']\n",
    "new_data = data.drop([i for i in data.columns if i not in new_columns], axis=1)"
   ]
  },
  {
   "cell_type": "code",
   "execution_count": 7,
   "metadata": {},
   "outputs": [
    {
     "name": "stdout",
     "output_type": "stream",
     "text": [
      "Int64Index([ 9,  9, 10, 10, 10, 10, 10, 10, 10, 10,\n",
      "            ...\n",
      "             9,  9,  9,  9,  9,  9,  9,  9,  9,  9],\n",
      "           dtype='int64', name='Date', length=415)\n"
     ]
    }
   ],
   "source": [
    "# determine the average price of pumpkin\n",
    "avg_price = (new_data['Low Price'] + new_data['High Price']) / 2\n",
    "# print(avg_price)\n",
    "\n",
    "month = pd.DatetimeIndex(new_data['Date']). month\n",
    "print(month)"
   ]
  },
  {
   "cell_type": "code",
   "execution_count": 8,
   "metadata": {},
   "outputs": [],
   "source": [
    "# create a new dataset with desired columns\n",
    "final_data = pd.DataFrame({'Month': month,\n",
    "                           'Variety': new_data['Variety'],\n",
    "                           'City': new_data['City Name'],\n",
    "                            'Package': new_data['Package'],\n",
    "                            'Low Price': new_data['Low Price'],\n",
    "                            'High Price': new_data['High Price'],\n",
    "                            'Price': avg_price})"
   ]
  },
  {
   "cell_type": "code",
   "execution_count": 9,
   "metadata": {},
   "outputs": [
    {
     "data": {
      "text/html": [
       "<div>\n",
       "<style scoped>\n",
       "    .dataframe tbody tr th:only-of-type {\n",
       "        vertical-align: middle;\n",
       "    }\n",
       "\n",
       "    .dataframe tbody tr th {\n",
       "        vertical-align: top;\n",
       "    }\n",
       "\n",
       "    .dataframe thead th {\n",
       "        text-align: right;\n",
       "    }\n",
       "</style>\n",
       "<table border=\"1\" class=\"dataframe\">\n",
       "  <thead>\n",
       "    <tr style=\"text-align: right;\">\n",
       "      <th></th>\n",
       "      <th>Month</th>\n",
       "      <th>Variety</th>\n",
       "      <th>City</th>\n",
       "      <th>Package</th>\n",
       "      <th>Low Price</th>\n",
       "      <th>High Price</th>\n",
       "      <th>Price</th>\n",
       "    </tr>\n",
       "  </thead>\n",
       "  <tbody>\n",
       "    <tr>\n",
       "      <th>1738</th>\n",
       "      <td>9</td>\n",
       "      <td>MINIATURE</td>\n",
       "      <td>ST. LOUIS</td>\n",
       "      <td>1/2 bushel cartons</td>\n",
       "      <td>15.00</td>\n",
       "      <td>15.0</td>\n",
       "      <td>15.000</td>\n",
       "    </tr>\n",
       "    <tr>\n",
       "      <th>1739</th>\n",
       "      <td>9</td>\n",
       "      <td>MINIATURE</td>\n",
       "      <td>ST. LOUIS</td>\n",
       "      <td>1/2 bushel cartons</td>\n",
       "      <td>13.75</td>\n",
       "      <td>15.0</td>\n",
       "      <td>14.375</td>\n",
       "    </tr>\n",
       "    <tr>\n",
       "      <th>1740</th>\n",
       "      <td>9</td>\n",
       "      <td>MINIATURE</td>\n",
       "      <td>ST. LOUIS</td>\n",
       "      <td>1/2 bushel cartons</td>\n",
       "      <td>10.75</td>\n",
       "      <td>15.0</td>\n",
       "      <td>12.875</td>\n",
       "    </tr>\n",
       "    <tr>\n",
       "      <th>1741</th>\n",
       "      <td>9</td>\n",
       "      <td>MINIATURE</td>\n",
       "      <td>ST. LOUIS</td>\n",
       "      <td>1/2 bushel cartons</td>\n",
       "      <td>12.00</td>\n",
       "      <td>12.0</td>\n",
       "      <td>12.000</td>\n",
       "    </tr>\n",
       "    <tr>\n",
       "      <th>1742</th>\n",
       "      <td>9</td>\n",
       "      <td>MINIATURE</td>\n",
       "      <td>ST. LOUIS</td>\n",
       "      <td>1/2 bushel cartons</td>\n",
       "      <td>12.00</td>\n",
       "      <td>12.0</td>\n",
       "      <td>12.000</td>\n",
       "    </tr>\n",
       "  </tbody>\n",
       "</table>\n",
       "</div>"
      ],
      "text/plain": [
       "      Month    Variety       City             Package  Low Price  High Price  \\\n",
       "1738      9  MINIATURE  ST. LOUIS  1/2 bushel cartons      15.00        15.0   \n",
       "1739      9  MINIATURE  ST. LOUIS  1/2 bushel cartons      13.75        15.0   \n",
       "1740      9  MINIATURE  ST. LOUIS  1/2 bushel cartons      10.75        15.0   \n",
       "1741      9  MINIATURE  ST. LOUIS  1/2 bushel cartons      12.00        12.0   \n",
       "1742      9  MINIATURE  ST. LOUIS  1/2 bushel cartons      12.00        12.0   \n",
       "\n",
       "       Price  \n",
       "1738  15.000  \n",
       "1739  14.375  \n",
       "1740  12.875  \n",
       "1741  12.000  \n",
       "1742  12.000  "
      ]
     },
     "execution_count": 9,
     "metadata": {},
     "output_type": "execute_result"
    }
   ],
   "source": [
    "final_data['Package'].nunique()\n",
    "final_data.tail()"
   ]
  },
  {
   "cell_type": "code",
   "execution_count": 10,
   "metadata": {},
   "outputs": [],
   "source": [
    "final_data.loc[final_data['Package'].str.contains('1 1/9'), 'Price'] = avg_price/(1 + 1/9)\n",
    "final_data.loc[final_data['Package'].str.contains('1/2'), 'Price'] = avg_price/(1/2)"
   ]
  },
  {
   "cell_type": "code",
   "execution_count": 11,
   "metadata": {},
   "outputs": [
    {
     "data": {
      "text/plain": [
       "<seaborn.axisgrid.FacetGrid at 0x25977079908>"
      ]
     },
     "execution_count": 11,
     "metadata": {},
     "output_type": "execute_result"
    },
    {
     "data": {
      "image/png": "[encoded data removed]",
      "text/plain": [
       "<Figure size 498.375x360 with 1 Axes>"
      ]
     },
     "metadata": {
      "needs_background": "light"
     },
     "output_type": "display_data"
    }
   ],
   "source": [
    "sns.catplot(x='Month', y='Price', data=final_data, hue='Package')"
   ]
  },
  {
   "cell_type": "code",
   "execution_count": 12,
   "metadata": {},
   "outputs": [
    {
     "data": {
      "text/plain": [
       "<seaborn.axisgrid.FacetGrid at 0x25977075788>"
      ]
     },
     "execution_count": 12,
     "metadata": {},
     "output_type": "execute_result"
    },
    {
     "data": {
      "image/png": "[encoded data removed]",
      "text/plain": [
       "<Figure size 498.375x360 with 1 Axes>"
      ]
     },
     "metadata": {
      "needs_background": "light"
     },
     "output_type": "display_data"
    }
   ],
   "source": [
    "sns.catplot(x='Month', y='Price', data=final_data, hue='Package', kind='bar')"
   ]
  },
  {
   "cell_type": "code",
   "execution_count": 13,
   "metadata": {},
   "outputs": [
    {
     "data": {
      "text/plain": [
       "Text(0, 0.5, 'Pumpkin Price')"
      ]
     },
     "execution_count": 13,
     "metadata": {},
     "output_type": "execute_result"
    },
    {
     "data": {
      "image/png": "[encoded data removed]",
      "text/plain": [
       "<Figure size 432x288 with 1 Axes>"
      ]
     },
     "metadata": {
      "needs_background": "light"
     },
     "output_type": "display_data"
    }
   ],
   "source": [
    "final_data.groupby(['Month'])['Price'].mean().plot(kind='bar')\n",
    "plt.ylabel(\"Pumpkin Price\")"
   ]
  },
  {
   "cell_type": "markdown",
   "metadata": {},
   "source": [
    "# Linear Regression"
   ]
  },
  {
   "cell_type": "code",
   "execution_count": 14,
   "metadata": {},
   "outputs": [
    {
     "data": {
      "text/html": [
       "<div>\n",
       "<style scoped>\n",
       "    .dataframe tbody tr th:only-of-type {\n",
       "        vertical-align: middle;\n",
       "    }\n",
       "\n",
       "    .dataframe tbody tr th {\n",
       "        vertical-align: top;\n",
       "    }\n",
       "\n",
       "    .dataframe thead th {\n",
       "        text-align: right;\n",
       "    }\n",
       "</style>\n",
       "<table border=\"1\" class=\"dataframe\">\n",
       "  <thead>\n",
       "    <tr style=\"text-align: right;\">\n",
       "      <th></th>\n",
       "      <th>Month</th>\n",
       "      <th>Variety</th>\n",
       "      <th>City</th>\n",
       "      <th>Package</th>\n",
       "      <th>Low Price</th>\n",
       "      <th>High Price</th>\n",
       "      <th>Price</th>\n",
       "    </tr>\n",
       "  </thead>\n",
       "  <tbody>\n",
       "    <tr>\n",
       "      <th>70</th>\n",
       "      <td>1</td>\n",
       "      <td>3</td>\n",
       "      <td>1</td>\n",
       "      <td>0</td>\n",
       "      <td>5</td>\n",
       "      <td>3</td>\n",
       "      <td>13.5</td>\n",
       "    </tr>\n",
       "    <tr>\n",
       "      <th>71</th>\n",
       "      <td>1</td>\n",
       "      <td>3</td>\n",
       "      <td>1</td>\n",
       "      <td>0</td>\n",
       "      <td>10</td>\n",
       "      <td>7</td>\n",
       "      <td>16.2</td>\n",
       "    </tr>\n",
       "    <tr>\n",
       "      <th>72</th>\n",
       "      <td>2</td>\n",
       "      <td>3</td>\n",
       "      <td>1</td>\n",
       "      <td>0</td>\n",
       "      <td>10</td>\n",
       "      <td>7</td>\n",
       "      <td>16.2</td>\n",
       "    </tr>\n",
       "    <tr>\n",
       "      <th>73</th>\n",
       "      <td>2</td>\n",
       "      <td>3</td>\n",
       "      <td>1</td>\n",
       "      <td>0</td>\n",
       "      <td>9</td>\n",
       "      <td>6</td>\n",
       "      <td>15.3</td>\n",
       "    </tr>\n",
       "    <tr>\n",
       "      <th>74</th>\n",
       "      <td>2</td>\n",
       "      <td>3</td>\n",
       "      <td>1</td>\n",
       "      <td>0</td>\n",
       "      <td>5</td>\n",
       "      <td>3</td>\n",
       "      <td>13.5</td>\n",
       "    </tr>\n",
       "  </tbody>\n",
       "</table>\n",
       "</div>"
      ],
      "text/plain": [
       "    Month  Variety  City  Package  Low Price  High Price  Price\n",
       "70      1        3     1        0          5           3   13.5\n",
       "71      1        3     1        0         10           7   16.2\n",
       "72      2        3     1        0         10           7   16.2\n",
       "73      2        3     1        0          9           6   15.3\n",
       "74      2        3     1        0          5           3   13.5"
      ]
     },
     "execution_count": 14,
     "metadata": {},
     "output_type": "execute_result"
    }
   ],
   "source": [
    "# import label encoder to turn text values to numerical\n",
    "from sklearn.preprocessing import LabelEncoder\n",
    "\n",
    "final_data.iloc[:, 0:-1] = final_data.iloc[:, 0:-1].apply(LabelEncoder().fit_transform)\n",
    "# final_data.iloc[:, 0:-1] = final_data.iloc[:, 0:-1].apply(LabelEncoder().fit_transform)\n",
    "\n",
    "final_data.head()"
   ]
  },
  {
   "cell_type": "code",
   "execution_count": 15,
   "metadata": {},
   "outputs": [
    {
     "name": "stdout",
     "output_type": "stream",
     "text": [
      "Month : -0.14912913634278588\n",
      "Variety : -0.8644282756946227\n",
      "City : 0.3238250993608744\n",
      "Package : 0.6088482822590116\n",
      "Low Price : 0.320745999844101\n",
      "High Price : 0.36973193448232944\n",
      "Price : 0.9999999999999998\n"
     ]
    }
   ],
   "source": [
    "# check the correlation between the values\n",
    "for i in final_data.columns:\n",
    "    print(f\"{i} : {final_data[i].corr(final_data['Price'])}\")"
   ]
  },
  {
   "cell_type": "code",
   "execution_count": 16,
   "metadata": {},
   "outputs": [
    {
     "data": {
      "text/plain": [
       "Month         0\n",
       "Variety       0\n",
       "City          0\n",
       "Package       0\n",
       "Low Price     0\n",
       "High Price    0\n",
       "Price         0\n",
       "dtype: int64"
      ]
     },
     "execution_count": 16,
     "metadata": {},
     "output_type": "execute_result"
    }
   ],
   "source": [
    "final_data.dropna(inplace=True)\n",
    "final_data.isnull().sum()"
   ]
  },
  {
   "cell_type": "code",
   "execution_count": 17,
   "metadata": {},
   "outputs": [
    {
     "name": "stdout",
     "output_type": "stream",
     "text": [
      "<class 'pandas.core.frame.DataFrame'>\n",
      "Int64Index: 415 entries, 70 to 1742\n",
      "Data columns (total 7 columns):\n",
      " #   Column      Non-Null Count  Dtype  \n",
      "---  ------      --------------  -----  \n",
      " 0   Month       415 non-null    int64  \n",
      " 1   Variety     415 non-null    int32  \n",
      " 2   City        415 non-null    int32  \n",
      " 3   Package     415 non-null    int32  \n",
      " 4   Low Price   415 non-null    int64  \n",
      " 5   High Price  415 non-null    int64  \n",
      " 6   Price       415 non-null    float64\n",
      "dtypes: float64(1), int32(3), int64(3)\n",
      "memory usage: 21.1 KB\n"
     ]
    }
   ],
   "source": [
    "final_data.info()"
   ]
  },
  {
   "cell_type": "code",
   "execution_count": 18,
   "metadata": {},
   "outputs": [
    {
     "data": {
      "text/html": [
       "<div>\n",
       "<style scoped>\n",
       "    .dataframe tbody tr th:only-of-type {\n",
       "        vertical-align: middle;\n",
       "    }\n",
       "\n",
       "    .dataframe tbody tr th {\n",
       "        vertical-align: top;\n",
       "    }\n",
       "\n",
       "    .dataframe thead th {\n",
       "        text-align: right;\n",
       "    }\n",
       "</style>\n",
       "<table border=\"1\" class=\"dataframe\">\n",
       "  <thead>\n",
       "    <tr style=\"text-align: right;\">\n",
       "      <th></th>\n",
       "      <th>Package</th>\n",
       "      <th>Price</th>\n",
       "    </tr>\n",
       "  </thead>\n",
       "  <tbody>\n",
       "    <tr>\n",
       "      <th>70</th>\n",
       "      <td>0</td>\n",
       "      <td>13.50</td>\n",
       "    </tr>\n",
       "    <tr>\n",
       "      <th>71</th>\n",
       "      <td>0</td>\n",
       "      <td>16.20</td>\n",
       "    </tr>\n",
       "    <tr>\n",
       "      <th>72</th>\n",
       "      <td>0</td>\n",
       "      <td>16.20</td>\n",
       "    </tr>\n",
       "    <tr>\n",
       "      <th>73</th>\n",
       "      <td>0</td>\n",
       "      <td>15.30</td>\n",
       "    </tr>\n",
       "    <tr>\n",
       "      <th>74</th>\n",
       "      <td>0</td>\n",
       "      <td>13.50</td>\n",
       "    </tr>\n",
       "    <tr>\n",
       "      <th>...</th>\n",
       "      <td>...</td>\n",
       "      <td>...</td>\n",
       "    </tr>\n",
       "    <tr>\n",
       "      <th>1738</th>\n",
       "      <td>2</td>\n",
       "      <td>30.00</td>\n",
       "    </tr>\n",
       "    <tr>\n",
       "      <th>1739</th>\n",
       "      <td>2</td>\n",
       "      <td>28.75</td>\n",
       "    </tr>\n",
       "    <tr>\n",
       "      <th>1740</th>\n",
       "      <td>2</td>\n",
       "      <td>25.75</td>\n",
       "    </tr>\n",
       "    <tr>\n",
       "      <th>1741</th>\n",
       "      <td>2</td>\n",
       "      <td>24.00</td>\n",
       "    </tr>\n",
       "    <tr>\n",
       "      <th>1742</th>\n",
       "      <td>2</td>\n",
       "      <td>24.00</td>\n",
       "    </tr>\n",
       "  </tbody>\n",
       "</table>\n",
       "<p>415 rows × 2 columns</p>\n",
       "</div>"
      ],
      "text/plain": [
       "      Package  Price\n",
       "70          0  13.50\n",
       "71          0  16.20\n",
       "72          0  16.20\n",
       "73          0  15.30\n",
       "74          0  13.50\n",
       "...       ...    ...\n",
       "1738        2  30.00\n",
       "1739        2  28.75\n",
       "1740        2  25.75\n",
       "1741        2  24.00\n",
       "1742        2  24.00\n",
       "\n",
       "[415 rows x 2 columns]"
      ]
     },
     "execution_count": 18,
     "metadata": {},
     "output_type": "execute_result"
    }
   ],
   "source": [
    "#  select the columns that will bw used to feed the model\n",
    "new_col = ['Package', 'Price']\n",
    "lin_reg = final_data.drop([i for i in final_data.columns if i not in new_col], axis='columns')\n",
    "\n",
    "lin_reg"
   ]
  },
  {
   "cell_type": "code",
   "execution_count": 19,
   "metadata": {},
   "outputs": [],
   "source": [
    "X = lin_reg.values[:, :1]\n",
    "y = lin_reg.values[:, 1:2]"
   ]
  },
  {
   "cell_type": "code",
   "execution_count": 20,
   "metadata": {},
   "outputs": [
    {
     "name": "stdout",
     "output_type": "stream",
     "text": [
      "Model Accuracy:  0.3348784132038001\n"
     ]
    }
   ],
   "source": [
    "from sklearn.linear_model import LinearRegression\n",
    "from sklearn.metrics import r2_score, mean_absolute_error, mean_squared_error\n",
    "from sklearn.model_selection import train_test_split\n",
    "\n",
    "X_train, X_test, y_train, y_test = train_test_split(X, y, test_size=0.2, random_state=0)\n",
    "\n",
    "lin_reg_model = LinearRegression()\n",
    "lin_reg_model.fit(X_train, y_train)\n",
    "\n",
    "pred = lin_reg_model.predict(X_test)\n",
    "\n",
    "accuracy_score = lin_reg_model.score(X_train, y_train)\n",
    "print(f\"Model Accuracy:  {accuracy_score}\")"
   ]
  },
  {
   "cell_type": "code",
   "execution_count": 21,
   "metadata": {},
   "outputs": [
    {
     "data": {
      "image/png": "[encoded data removed]",
      "text/plain": [
       "<Figure size 432x288 with 1 Axes>"
      ]
     },
     "metadata": {
      "needs_background": "light"
     },
     "output_type": "display_data"
    }
   ],
   "source": [
    "plt.scatter(X_test, y_test, color='blue')\n",
    "plt.plot(X_test, pred, color='red', linewidth=3)\n",
    "\n",
    "plt.xlabel('Package')\n",
    "plt.ylabel('Price')\n",
    "\n",
    "plt.show()"
   ]
  },
  {
   "cell_type": "markdown",
   "metadata": {},
   "source": [
    "# Polynomial Regression"
   ]
  },
  {
   "cell_type": "code",
   "execution_count": 22,
   "metadata": {},
   "outputs": [
    {
     "data": {
      "text/html": [
       "<div>\n",
       "<style scoped>\n",
       "    .dataframe tbody tr th:only-of-type {\n",
       "        vertical-align: middle;\n",
       "    }\n",
       "\n",
       "    .dataframe tbody tr th {\n",
       "        vertical-align: top;\n",
       "    }\n",
       "\n",
       "    .dataframe thead th {\n",
       "        text-align: right;\n",
       "    }\n",
       "</style>\n",
       "<table border=\"1\" class=\"dataframe\">\n",
       "  <thead>\n",
       "    <tr style=\"text-align: right;\">\n",
       "      <th></th>\n",
       "      <th>Month</th>\n",
       "      <th>Variety</th>\n",
       "      <th>City</th>\n",
       "      <th>Package</th>\n",
       "      <th>Price</th>\n",
       "    </tr>\n",
       "  </thead>\n",
       "  <tbody>\n",
       "    <tr>\n",
       "      <th>70</th>\n",
       "      <td>1</td>\n",
       "      <td>3</td>\n",
       "      <td>1</td>\n",
       "      <td>0</td>\n",
       "      <td>13.5</td>\n",
       "    </tr>\n",
       "    <tr>\n",
       "      <th>71</th>\n",
       "      <td>1</td>\n",
       "      <td>3</td>\n",
       "      <td>1</td>\n",
       "      <td>0</td>\n",
       "      <td>16.2</td>\n",
       "    </tr>\n",
       "    <tr>\n",
       "      <th>72</th>\n",
       "      <td>2</td>\n",
       "      <td>3</td>\n",
       "      <td>1</td>\n",
       "      <td>0</td>\n",
       "      <td>16.2</td>\n",
       "    </tr>\n",
       "    <tr>\n",
       "      <th>73</th>\n",
       "      <td>2</td>\n",
       "      <td>3</td>\n",
       "      <td>1</td>\n",
       "      <td>0</td>\n",
       "      <td>15.3</td>\n",
       "    </tr>\n",
       "    <tr>\n",
       "      <th>74</th>\n",
       "      <td>2</td>\n",
       "      <td>3</td>\n",
       "      <td>1</td>\n",
       "      <td>0</td>\n",
       "      <td>13.5</td>\n",
       "    </tr>\n",
       "  </tbody>\n",
       "</table>\n",
       "</div>"
      ],
      "text/plain": [
       "    Month  Variety  City  Package  Price\n",
       "70      1        3     1        0   13.5\n",
       "71      1        3     1        0   16.2\n",
       "72      2        3     1        0   16.2\n",
       "73      2        3     1        0   15.3\n",
       "74      2        3     1        0   13.5"
      ]
     },
     "execution_count": 22,
     "metadata": {},
     "output_type": "execute_result"
    }
   ],
   "source": [
    "new_columns = ['Package', 'Variety', 'City', 'Month', 'Price']\n",
    "poly_cols = final_data.drop([i for i in final_data.columns if i not in new_columns], axis='columns')\n",
    "\n",
    "poly_cols.head()"
   ]
  },
  {
   "cell_type": "code",
   "execution_count": 23,
   "metadata": {},
   "outputs": [
    {
     "data": {
      "text/html": [
       "<style  type=\"text/css\" >\n",
       "    #T_65c806e8_eb27_11eb_9a9f_c46516e42d22row0_col0 {\n",
       "            background-color:  #b40426;\n",
       "            color:  #f1f1f1;\n",
       "        }    #T_65c806e8_eb27_11eb_9a9f_c46516e42d22row0_col1 {\n",
       "            background-color:  #ead4c8;\n",
       "            color:  #000000;\n",
       "        }    #T_65c806e8_eb27_11eb_9a9f_c46516e42d22row0_col2 {\n",
       "            background-color:  #4961d2;\n",
       "            color:  #f1f1f1;\n",
       "        }    #T_65c806e8_eb27_11eb_9a9f_c46516e42d22row0_col3 {\n",
       "            background-color:  #9bbcff;\n",
       "            color:  #000000;\n",
       "        }    #T_65c806e8_eb27_11eb_9a9f_c46516e42d22row0_col4 {\n",
       "            background-color:  #bbd1f8;\n",
       "            color:  #000000;\n",
       "        }    #T_65c806e8_eb27_11eb_9a9f_c46516e42d22row1_col0 {\n",
       "            background-color:  #9fbfff;\n",
       "            color:  #000000;\n",
       "        }    #T_65c806e8_eb27_11eb_9a9f_c46516e42d22row1_col1 {\n",
       "            background-color:  #b40426;\n",
       "            color:  #f1f1f1;\n",
       "        }    #T_65c806e8_eb27_11eb_9a9f_c46516e42d22row1_col2 {\n",
       "            background-color:  #3b4cc0;\n",
       "            color:  #f1f1f1;\n",
       "        }    #T_65c806e8_eb27_11eb_9a9f_c46516e42d22row1_col3 {\n",
       "            background-color:  #3b4cc0;\n",
       "            color:  #f1f1f1;\n",
       "        }    #T_65c806e8_eb27_11eb_9a9f_c46516e42d22row1_col4 {\n",
       "            background-color:  #3b4cc0;\n",
       "            color:  #f1f1f1;\n",
       "        }    #T_65c806e8_eb27_11eb_9a9f_c46516e42d22row2_col0 {\n",
       "            background-color:  #3b4cc0;\n",
       "            color:  #f1f1f1;\n",
       "        }    #T_65c806e8_eb27_11eb_9a9f_c46516e42d22row2_col1 {\n",
       "            background-color:  #a9c6fd;\n",
       "            color:  #000000;\n",
       "        }    #T_65c806e8_eb27_11eb_9a9f_c46516e42d22row2_col2 {\n",
       "            background-color:  #b40426;\n",
       "            color:  #f1f1f1;\n",
       "        }    #T_65c806e8_eb27_11eb_9a9f_c46516e42d22row2_col3 {\n",
       "            background-color:  #edd2c3;\n",
       "            color:  #000000;\n",
       "        }    #T_65c806e8_eb27_11eb_9a9f_c46516e42d22row2_col4 {\n",
       "            background-color:  #f5c0a7;\n",
       "            color:  #000000;\n",
       "        }    #T_65c806e8_eb27_11eb_9a9f_c46516e42d22row3_col0 {\n",
       "            background-color:  #455cce;\n",
       "            color:  #f1f1f1;\n",
       "        }    #T_65c806e8_eb27_11eb_9a9f_c46516e42d22row3_col1 {\n",
       "            background-color:  #6485ec;\n",
       "            color:  #000000;\n",
       "        }    #T_65c806e8_eb27_11eb_9a9f_c46516e42d22row3_col2 {\n",
       "            background-color:  #ccd9ed;\n",
       "            color:  #000000;\n",
       "        }    #T_65c806e8_eb27_11eb_9a9f_c46516e42d22row3_col3 {\n",
       "            background-color:  #b40426;\n",
       "            color:  #f1f1f1;\n",
       "        }    #T_65c806e8_eb27_11eb_9a9f_c46516e42d22row3_col4 {\n",
       "            background-color:  #ef886b;\n",
       "            color:  #000000;\n",
       "        }    #T_65c806e8_eb27_11eb_9a9f_c46516e42d22row4_col0 {\n",
       "            background-color:  #445acc;\n",
       "            color:  #f1f1f1;\n",
       "        }    #T_65c806e8_eb27_11eb_9a9f_c46516e42d22row4_col1 {\n",
       "            background-color:  #3b4cc0;\n",
       "            color:  #f1f1f1;\n",
       "        }    #T_65c806e8_eb27_11eb_9a9f_c46516e42d22row4_col2 {\n",
       "            background-color:  #d2dbe8;\n",
       "            color:  #000000;\n",
       "        }    #T_65c806e8_eb27_11eb_9a9f_c46516e42d22row4_col3 {\n",
       "            background-color:  #f39778;\n",
       "            color:  #000000;\n",
       "        }    #T_65c806e8_eb27_11eb_9a9f_c46516e42d22row4_col4 {\n",
       "            background-color:  #b40426;\n",
       "            color:  #f1f1f1;\n",
       "        }</style><table id=\"T_65c806e8_eb27_11eb_9a9f_c46516e42d22\" ><thead>    <tr>        <th class=\"blank level0\" ></th>        <th class=\"col_heading level0 col0\" >Month</th>        <th class=\"col_heading level0 col1\" >Variety</th>        <th class=\"col_heading level0 col2\" >City</th>        <th class=\"col_heading level0 col3\" >Package</th>        <th class=\"col_heading level0 col4\" >Price</th>    </tr></thead><tbody>\n",
       "                <tr>\n",
       "                        <th id=\"T_65c806e8_eb27_11eb_9a9f_c46516e42d22level0_row0\" class=\"row_heading level0 row0\" >Month</th>\n",
       "                        <td id=\"T_65c806e8_eb27_11eb_9a9f_c46516e42d22row0_col0\" class=\"data row0 col0\" >1.000000</td>\n",
       "                        <td id=\"T_65c806e8_eb27_11eb_9a9f_c46516e42d22row0_col1\" class=\"data row0 col1\" >0.171330</td>\n",
       "                        <td id=\"T_65c806e8_eb27_11eb_9a9f_c46516e42d22row0_col2\" class=\"data row0 col2\" >-0.188728</td>\n",
       "                        <td id=\"T_65c806e8_eb27_11eb_9a9f_c46516e42d22row0_col3\" class=\"data row0 col3\" >-0.144847</td>\n",
       "                        <td id=\"T_65c806e8_eb27_11eb_9a9f_c46516e42d22row0_col4\" class=\"data row0 col4\" >-0.149129</td>\n",
       "            </tr>\n",
       "            <tr>\n",
       "                        <th id=\"T_65c806e8_eb27_11eb_9a9f_c46516e42d22level0_row1\" class=\"row_heading level0 row1\" >Variety</th>\n",
       "                        <td id=\"T_65c806e8_eb27_11eb_9a9f_c46516e42d22row1_col0\" class=\"data row1 col0\" >0.171330</td>\n",
       "                        <td id=\"T_65c806e8_eb27_11eb_9a9f_c46516e42d22row1_col1\" class=\"data row1 col1\" >1.000000</td>\n",
       "                        <td id=\"T_65c806e8_eb27_11eb_9a9f_c46516e42d22row1_col2\" class=\"data row1 col2\" >-0.248441</td>\n",
       "                        <td id=\"T_65c806e8_eb27_11eb_9a9f_c46516e42d22row1_col3\" class=\"data row1 col3\" >-0.614855</td>\n",
       "                        <td id=\"T_65c806e8_eb27_11eb_9a9f_c46516e42d22row1_col4\" class=\"data row1 col4\" >-0.864428</td>\n",
       "            </tr>\n",
       "            <tr>\n",
       "                        <th id=\"T_65c806e8_eb27_11eb_9a9f_c46516e42d22level0_row2\" class=\"row_heading level0 row2\" >City</th>\n",
       "                        <td id=\"T_65c806e8_eb27_11eb_9a9f_c46516e42d22row2_col0\" class=\"data row2 col0\" >-0.188728</td>\n",
       "                        <td id=\"T_65c806e8_eb27_11eb_9a9f_c46516e42d22row2_col1\" class=\"data row2 col1\" >-0.248441</td>\n",
       "                        <td id=\"T_65c806e8_eb27_11eb_9a9f_c46516e42d22row2_col2\" class=\"data row2 col2\" >1.000000</td>\n",
       "                        <td id=\"T_65c806e8_eb27_11eb_9a9f_c46516e42d22row2_col3\" class=\"data row2 col3\" >0.301604</td>\n",
       "                        <td id=\"T_65c806e8_eb27_11eb_9a9f_c46516e42d22row2_col4\" class=\"data row2 col4\" >0.323825</td>\n",
       "            </tr>\n",
       "            <tr>\n",
       "                        <th id=\"T_65c806e8_eb27_11eb_9a9f_c46516e42d22level0_row3\" class=\"row_heading level0 row3\" >Package</th>\n",
       "                        <td id=\"T_65c806e8_eb27_11eb_9a9f_c46516e42d22row3_col0\" class=\"data row3 col0\" >-0.144847</td>\n",
       "                        <td id=\"T_65c806e8_eb27_11eb_9a9f_c46516e42d22row3_col1\" class=\"data row3 col1\" >-0.614855</td>\n",
       "                        <td id=\"T_65c806e8_eb27_11eb_9a9f_c46516e42d22row3_col2\" class=\"data row3 col2\" >0.301604</td>\n",
       "                        <td id=\"T_65c806e8_eb27_11eb_9a9f_c46516e42d22row3_col3\" class=\"data row3 col3\" >1.000000</td>\n",
       "                        <td id=\"T_65c806e8_eb27_11eb_9a9f_c46516e42d22row3_col4\" class=\"data row3 col4\" >0.608848</td>\n",
       "            </tr>\n",
       "            <tr>\n",
       "                        <th id=\"T_65c806e8_eb27_11eb_9a9f_c46516e42d22level0_row4\" class=\"row_heading level0 row4\" >Price</th>\n",
       "                        <td id=\"T_65c806e8_eb27_11eb_9a9f_c46516e42d22row4_col0\" class=\"data row4 col0\" >-0.149129</td>\n",
       "                        <td id=\"T_65c806e8_eb27_11eb_9a9f_c46516e42d22row4_col1\" class=\"data row4 col1\" >-0.864428</td>\n",
       "                        <td id=\"T_65c806e8_eb27_11eb_9a9f_c46516e42d22row4_col2\" class=\"data row4 col2\" >0.323825</td>\n",
       "                        <td id=\"T_65c806e8_eb27_11eb_9a9f_c46516e42d22row4_col3\" class=\"data row4 col3\" >0.608848</td>\n",
       "                        <td id=\"T_65c806e8_eb27_11eb_9a9f_c46516e42d22row4_col4\" class=\"data row4 col4\" >1.000000</td>\n",
       "            </tr>\n",
       "    </tbody></table>"
      ],
      "text/plain": [
       "<pandas.io.formats.style.Styler at 0x2597821bac8>"
      ]
     },
     "execution_count": 23,
     "metadata": {},
     "output_type": "execute_result"
    }
   ],
   "source": [
    "corr = poly_cols.corr()\n",
    "corr.style.background_gradient(cmap='coolwarm')"
   ]
  },
  {
   "cell_type": "code",
   "execution_count": 24,
   "metadata": {},
   "outputs": [],
   "source": [
    "# we choose the package column because of the high corellation\n",
    "X = poly_cols.iloc[:, 3:4].values\n",
    "y = poly_cols.iloc[:, 4:5].values"
   ]
  },
  {
   "cell_type": "code",
   "execution_count": 25,
   "metadata": {},
   "outputs": [],
   "source": [
    "from sklearn.preprocessing import PolynomialFeatures\n",
    "from sklearn.pipeline import make_pipeline\n",
    "\n",
    "pipeline = make_pipeline(PolynomialFeatures(4), LinearRegression())\n",
    "X_train, X_test, y_train, y_test = train_test_split(X, y, test_size=0.2, random_state=0)\n",
    "\n",
    "pipeline.fit(np.array(X_train), y_train)\n",
    "\n",
    "y_pred = pipeline.predict(X_test)"
   ]
  },
  {
   "cell_type": "code",
   "execution_count": 26,
   "metadata": {},
   "outputs": [
    {
     "data": {
      "image/png": "[encoded data removed]",
      "text/plain": [
       "<Figure size 432x288 with 1 Axes>"
      ]
     },
     "metadata": {
      "needs_background": "light"
     },
     "output_type": "display_data"
    }
   ],
   "source": [
    "df = pd.DataFrame({'x': X_test[:, 0], 'y': y_pred[:, 0]})\n",
    "df.sort_values(by='x', inplace=True)\n",
    "points = pd.DataFrame(df).to_numpy()\n",
    "\n",
    "plt.plot(points[:, 0], points[:, 1], color='red', linewidth=3)\n",
    "plt.xlabel('Package')\n",
    "plt.ylabel('Price')\n",
    "plt.scatter(X, y)\n",
    "plt.show()"
   ]
  },
  {
   "cell_type": "code",
   "execution_count": 27,
   "metadata": {},
   "outputs": [
    {
     "data": {
      "image/png": "[encoded data removed]",
      "text/plain": [
       "<Figure size 432x288 with 1 Axes>"
      ]
     },
     "metadata": {
      "needs_background": "light"
     },
     "output_type": "display_data"
    }
   ],
   "source": [
    "plt.scatter(X_test, y_test, color='blue')\n",
    "plt.plot(X_test, y_pred, color='red', linewidth=3)\n",
    "\n",
    "plt.xlabel('Package')\n",
    "plt.ylabel('Price')\n",
    "\n",
    "plt.show()"
   ]
  },
  {
   "cell_type": "code",
   "execution_count": 28,
   "metadata": {},
   "outputs": [
    {
     "name": "stdout",
     "output_type": "stream",
     "text": [
      "Model Accuracy:  0.8558738910762582\n"
     ]
    }
   ],
   "source": [
    "accuracy_score = pipeline.score(X_train, y_train)\n",
    "print(f\"Model Accuracy:  {accuracy_score}\")"
   ]
  },
  {
   "cell_type": "code",
   "execution_count": null,
   "metadata": {},
   "outputs": [],
   "source": []
  }
 ],
 "metadata": {
  "interpreter": {
   "hash": "29bb0ae593278301629aab3376a868c27deccc17532c9747bd6d59049c818ac5"
  },
  "kernelspec": {
   "display_name": "Python 3",
   "language": "python",
   "name": "python3"
  },
  "language_info": {
   "codemirror_mode": {
    "name": "ipython",
    "version": 3
   },
   "file_extension": ".py",
   "mimetype": "text/x-python",
   "name": "python",
   "nbconvert_exporter": "python",
   "pygments_lexer": "ipython3",
   "version": "3.7.6"
  }
 },
 "nbformat": 4,
 "nbformat_minor": 2
}
