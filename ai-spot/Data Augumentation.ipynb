{
 "cells": [
  {
   "cell_type": "code",
   "execution_count": 2,
   "metadata": {},
   "outputs": [],
   "source": [
    "from keras.preprocessing.image import load_img, img_to_array\n",
    "from keras.preprocessing.image import ImageDataGenerator\n",
    "\n",
    "# Total Generated number\n",
    "total_number = 5\n",
    "\n",
    "data_gen = ImageDataGenerator(rescale=1. / 255, shear_range=0.2,\n",
    "                              zoom_range=0.2, horizontal_flip=True)\n",
    "\n",
    "# Create image to tensor\n",
    "img = load_img(\"test.jpg\", grayscale=False)\n",
    "arr = img_to_array(img)\n",
    "tensor_image = arr.reshape((1, ) + arr.shape)\n",
    "\n",
    "for i, _ in enumerate(data_gen.flow(x=tensor_image,\n",
    "                                    batch_size=1,\n",
    "                                    save_to_dir=\".../path\",\n",
    "                                    save_prefix=\"name_of_category\",\n",
    "                                    save_format=\".png\")):\n",
    "    if i > total_number:\n",
    "        break"
   ]
  },
  {
   "cell_type": "code",
   "execution_count": null,
   "metadata": {},
   "outputs": [],
   "source": []
  }
 ],
 "metadata": {
  "kernelspec": {
   "display_name": "Python 3",
   "language": "python",
   "name": "python3"
  },
  "language_info": {
   "codemirror_mode": {
    "name": "ipython",
    "version": 3
   },
   "file_extension": ".py",
   "mimetype": "text/x-python",
   "name": "python",
   "nbconvert_exporter": "python",
   "pygments_lexer": "ipython3",
   "version": "3.7.6"
  }
 },
 "nbformat": 4,
 "nbformat_minor": 4
}
